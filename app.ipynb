{
 "cells": [
  {
   "cell_type": "markdown",
   "metadata": {},
   "source": [
    "# This is a rock prediction app"
   ]
  },
  {
   "cell_type": "code",
   "execution_count": 4,
   "metadata": {
    "scrolled": false
   },
   "outputs": [
    {
     "name": "stdout",
     "output_type": "stream",
     "text": [
      "Collecting voila\n",
      "  Using cached voila-0.3.6-py3-none-any.whl (1.7 MB)\n",
      "Requirement already satisfied: traitlets<6,>=5.0.3 in c:\\users\\user\\anaconda3\\lib\\site-packages (from voila) (5.4.0)\n",
      "Collecting jupyterlab-server<3,>=2.3.0\n",
      "  Using cached jupyterlab_server-2.15.2-py3-none-any.whl (54 kB)\n",
      "Collecting nbclient<0.6,>=0.4.0\n",
      "  Using cached nbclient-0.5.13-py3-none-any.whl (70 kB)\n",
      "Collecting jupyter-server<2.0.0,>=1.18\n",
      "  Using cached jupyter_server-1.19.0-py3-none-any.whl (346 kB)\n",
      "Requirement already satisfied: jupyter-client<8,>=6.1.3 in c:\\users\\user\\anaconda3\\lib\\site-packages (from voila) (6.1.6)\n",
      "Requirement already satisfied: websockets>=9.0 in c:\\users\\user\\anaconda3\\lib\\site-packages (from voila) (10.3)\n",
      "Collecting nbconvert<7,>=6.4.5\n",
      "  Using cached nbconvert-6.5.4-py3-none-any.whl (563 kB)\n",
      "Collecting jupyter-core>=4.11.0\n",
      "  Using cached jupyter_core-4.11.1-py3-none-any.whl (88 kB)\n",
      "Requirement already satisfied: tornado>=4.1 in c:\\users\\user\\anaconda3\\lib\\site-packages (from jupyter-client<8,>=6.1.3->voila) (6.2)\n",
      "Requirement already satisfied: pyzmq>=13 in c:\\users\\user\\anaconda3\\lib\\site-packages (from jupyter-client<8,>=6.1.3->voila) (24.0.1)\n",
      "Requirement already satisfied: python-dateutil>=2.1 in c:\\users\\user\\anaconda3\\lib\\site-packages (from jupyter-client<8,>=6.1.3->voila) (2.8.2)\n",
      "Requirement already satisfied: pywin32>=1.0 in c:\\users\\user\\anaconda3\\lib\\site-packages (from jupyter-core>=4.11.0->voila) (227)\n",
      "Requirement already satisfied: prometheus-client in c:\\users\\user\\anaconda3\\lib\\site-packages (from jupyter-server<2.0.0,>=1.18->voila) (0.8.0)\n",
      "Collecting nbformat>=5.2.0\n",
      "  Using cached nbformat-5.6.1-py3-none-any.whl (77 kB)\n",
      "Requirement already satisfied: Send2Trash in c:\\users\\user\\anaconda3\\lib\\site-packages (from jupyter-server<2.0.0,>=1.18->voila) (1.5.0)\n",
      "Collecting jupyter-client<8,>=6.1.3\n",
      "  Using cached jupyter_client-7.3.5-py3-none-any.whl (132 kB)\n",
      "Collecting argon2-cffi\n",
      "  Using cached argon2_cffi-21.3.0-py3-none-any.whl (14 kB)\n",
      "Requirement already satisfied: websocket-client in c:\\users\\user\\anaconda3\\lib\\site-packages (from jupyter-server<2.0.0,>=1.18->voila) (1.4.1)\n",
      "Requirement already satisfied: packaging in c:\\users\\user\\anaconda3\\lib\\site-packages (from jupyter-server<2.0.0,>=1.18->voila) (20.4)\n",
      "Collecting anyio<4,>=3.1.0\n",
      "  Using cached anyio-3.6.1-py3-none-any.whl (80 kB)\n",
      "Requirement already satisfied: terminado>=0.8.3 in c:\\users\\user\\anaconda3\\lib\\site-packages (from jupyter-server<2.0.0,>=1.18->voila) (0.8.3)\n",
      "Requirement already satisfied: pywinpty in c:\\users\\user\\anaconda3\\lib\\site-packages (from jupyter-server<2.0.0,>=1.18->voila) (0.5.7)\n",
      "Requirement already satisfied: jinja2 in c:\\users\\user\\anaconda3\\lib\\site-packages (from jupyter-server<2.0.0,>=1.18->voila) (2.11.2)\n",
      "Requirement already satisfied: nest-asyncio>=1.5.4 in c:\\users\\user\\anaconda3\\lib\\site-packages (from jupyter-client<8,>=6.1.3->voila) (1.5.5)\n",
      "Requirement already satisfied: entrypoints in c:\\users\\user\\anaconda3\\lib\\site-packages (from jupyter-client<8,>=6.1.3->voila) (0.3)\n",
      "Requirement already satisfied: jsonschema>=3.0.1 in c:\\users\\user\\anaconda3\\lib\\site-packages (from jupyterlab-server<3,>=2.3.0->voila) (3.2.0)"
     ]
    },
    {
     "name": "stderr",
     "output_type": "stream",
     "text": [
      "ERROR: pip's dependency resolver does not currently take into account all the packages that are installed. This behaviour is the source of the following dependency conflicts.\n",
      "spyder 4.1.4 requires pyqtwebengine<5.13; python_version >= \"3\", which is not installed.\n",
      "spyder 4.1.4 requires pyqt5<5.13; python_version >= \"3\", but you have pyqt5 5.15.7 which is incompatible.\n",
      "jupyterlab 2.1.5 requires jupyterlab_server<2.0,>=1.1.0, but you have jupyterlab-server 2.15.2 which is incompatible.\n"
     ]
    },
    {
     "name": "stdout",
     "output_type": "stream",
     "text": [
      "\n",
      "Requirement already satisfied: importlib-metadata>=3.6 in c:\\users\\user\\anaconda3\\lib\\site-packages (from jupyterlab-server<3,>=2.3.0->voila) (4.12.0)\n",
      "Requirement already satisfied: json5 in c:\\users\\user\\anaconda3\\lib\\site-packages (from jupyterlab-server<3,>=2.3.0->voila) (0.9.5)\n",
      "Requirement already satisfied: babel in c:\\users\\user\\anaconda3\\lib\\site-packages (from jupyterlab-server<3,>=2.3.0->voila) (2.8.0)\n",
      "Requirement already satisfied: requests in c:\\users\\user\\anaconda3\\lib\\site-packages (from jupyterlab-server<3,>=2.3.0->voila) (2.24.0)\n",
      "Collecting jinja2\n",
      "  Using cached Jinja2-3.1.2-py3-none-any.whl (133 kB)\n",
      "Requirement already satisfied: bleach in c:\\users\\user\\anaconda3\\lib\\site-packages (from nbconvert<7,>=6.4.5->voila) (3.1.5)\n",
      "Requirement already satisfied: pygments>=2.4.1 in c:\\users\\user\\anaconda3\\lib\\site-packages (from nbconvert<7,>=6.4.5->voila) (2.6.1)\n",
      "Requirement already satisfied: defusedxml in c:\\users\\user\\anaconda3\\lib\\site-packages (from nbconvert<7,>=6.4.5->voila) (0.6.0)\n",
      "Requirement already satisfied: tinycss2 in c:\\users\\user\\anaconda3\\lib\\site-packages (from nbconvert<7,>=6.4.5->voila) (1.1.1)\n",
      "Requirement already satisfied: beautifulsoup4 in c:\\users\\user\\anaconda3\\lib\\site-packages (from nbconvert<7,>=6.4.5->voila) (4.9.1)\n",
      "Collecting jupyterlab-pygments\n",
      "  Using cached jupyterlab_pygments-0.2.2-py2.py3-none-any.whl (21 kB)\n",
      "Requirement already satisfied: mistune<2,>=0.8.1 in c:\\users\\user\\anaconda3\\lib\\site-packages (from nbconvert<7,>=6.4.5->voila) (0.8.4)\n",
      "Requirement already satisfied: MarkupSafe>=2.0 in c:\\users\\user\\anaconda3\\lib\\site-packages (from nbconvert<7,>=6.4.5->voila) (2.1.1)\n",
      "Requirement already satisfied: lxml in c:\\users\\user\\anaconda3\\lib\\site-packages (from nbconvert<7,>=6.4.5->voila) (4.5.2)\n",
      "Requirement already satisfied: pandocfilters>=1.4.1 in c:\\users\\user\\anaconda3\\lib\\site-packages (from nbconvert<7,>=6.4.5->voila) (1.4.2)\n",
      "Requirement already satisfied: sniffio>=1.1 in c:\\users\\user\\anaconda3\\lib\\site-packages (from anyio<4,>=3.1.0->jupyter-server<2.0.0,>=1.18->voila) (1.3.0)\n",
      "Requirement already satisfied: idna>=2.8 in c:\\users\\user\\anaconda3\\lib\\site-packages (from anyio<4,>=3.1.0->jupyter-server<2.0.0,>=1.18->voila) (2.10)\n",
      "Requirement already satisfied: zipp>=0.5 in c:\\users\\user\\anaconda3\\lib\\site-packages (from importlib-metadata>=3.6->jupyterlab-server<3,>=2.3.0->voila) (3.1.0)\n",
      "Requirement already satisfied: attrs>=17.4.0 in c:\\users\\user\\anaconda3\\lib\\site-packages (from jsonschema>=3.0.1->jupyterlab-server<3,>=2.3.0->voila) (19.3.0)\n",
      "Requirement already satisfied: six>=1.11.0 in c:\\users\\user\\anaconda3\\lib\\site-packages (from jsonschema>=3.0.1->jupyterlab-server<3,>=2.3.0->voila) (1.16.0)\n",
      "Requirement already satisfied: pyrsistent>=0.14.0 in c:\\users\\user\\anaconda3\\lib\\site-packages (from jsonschema>=3.0.1->jupyterlab-server<3,>=2.3.0->voila) (0.16.0)\n",
      "Requirement already satisfied: setuptools in c:\\users\\user\\anaconda3\\lib\\site-packages (from jsonschema>=3.0.1->jupyterlab-server<3,>=2.3.0->voila) (49.2.0.post20200714)\n",
      "Requirement already satisfied: fastjsonschema in c:\\users\\user\\anaconda3\\lib\\site-packages (from nbformat>=5.2.0->jupyter-server<2.0.0,>=1.18->voila) (2.16.2)\n",
      "Collecting argon2-cffi-bindings\n",
      "  Using cached argon2_cffi_bindings-21.2.0-cp36-abi3-win_amd64.whl (30 kB)\n",
      "Requirement already satisfied: pytz>=2015.7 in c:\\users\\user\\anaconda3\\lib\\site-packages (from babel->jupyterlab-server<3,>=2.3.0->voila) (2020.1)\n",
      "Requirement already satisfied: soupsieve>1.2 in c:\\users\\user\\anaconda3\\lib\\site-packages (from beautifulsoup4->nbconvert<7,>=6.4.5->voila) (2.0.1)\n",
      "Requirement already satisfied: webencodings in c:\\users\\user\\anaconda3\\lib\\site-packages (from bleach->nbconvert<7,>=6.4.5->voila) (0.5.1)\n",
      "Requirement already satisfied: pyparsing>=2.0.2 in c:\\users\\user\\anaconda3\\lib\\site-packages (from packaging->jupyter-server<2.0.0,>=1.18->voila) (2.4.7)\n",
      "Requirement already satisfied: certifi>=2017.4.17 in c:\\users\\user\\anaconda3\\lib\\site-packages (from requests->jupyterlab-server<3,>=2.3.0->voila) (2020.6.20)\n",
      "Requirement already satisfied: urllib3!=1.25.0,!=1.25.1,<1.26,>=1.21.1 in c:\\users\\user\\anaconda3\\lib\\site-packages (from requests->jupyterlab-server<3,>=2.3.0->voila) (1.25.9)\n",
      "Requirement already satisfied: chardet<4,>=3.0.2 in c:\\users\\user\\anaconda3\\lib\\site-packages (from requests->jupyterlab-server<3,>=2.3.0->voila) (3.0.4)\n",
      "Requirement already satisfied: cffi>=1.0.1 in c:\\users\\user\\anaconda3\\lib\\site-packages (from argon2-cffi-bindings->argon2-cffi->jupyter-server<2.0.0,>=1.18->voila) (1.14.0)\n",
      "Requirement already satisfied: pycparser in c:\\users\\user\\anaconda3\\lib\\site-packages (from cffi>=1.0.1->argon2-cffi-bindings->argon2-cffi->jupyter-server<2.0.0,>=1.18->voila) (2.20)\n",
      "Installing collected packages: jupyterlab-pygments, jupyter-core, jinja2, anyio, jupyter-client, argon2-cffi-bindings, nbformat, argon2-cffi, nbclient, nbconvert, jupyter-server, jupyterlab-server, voila\n",
      "  Attempting uninstall: jupyter-core\n",
      "    Found existing installation: jupyter-core 4.6.3\n",
      "    Uninstalling jupyter-core-4.6.3:\n",
      "      Successfully uninstalled jupyter-core-4.6.3\n",
      "  Attempting uninstall: jinja2\n",
      "    Found existing installation: Jinja2 2.11.2\n",
      "    Uninstalling Jinja2-2.11.2:\n",
      "      Successfully uninstalled Jinja2-2.11.2\n",
      "  Attempting uninstall: jupyter-client\n",
      "    Found existing installation: jupyter-client 6.1.6\n",
      "    Uninstalling jupyter-client-6.1.6:\n",
      "      Successfully uninstalled jupyter-client-6.1.6\n",
      "  Attempting uninstall: nbformat\n",
      "    Found existing installation: nbformat 5.0.7\n",
      "    Uninstalling nbformat-5.0.7:\n",
      "      Successfully uninstalled nbformat-5.0.7\n",
      "  Attempting uninstall: nbconvert\n",
      "    Found existing installation: nbconvert 5.6.1\n",
      "    Uninstalling nbconvert-5.6.1:\n",
      "      Successfully uninstalled nbconvert-5.6.1\n",
      "  Attempting uninstall: jupyterlab-server\n",
      "    Found existing installation: jupyterlab-server 1.2.0\n",
      "    Uninstalling jupyterlab-server-1.2.0:\n",
      "      Successfully uninstalled jupyterlab-server-1.2.0\n",
      "Successfully installed anyio-3.6.1 argon2-cffi-21.3.0 argon2-cffi-bindings-21.2.0 jinja2-3.1.2 jupyter-client-7.3.5 jupyter-core-4.11.1 jupyter-server-1.19.0 jupyterlab-pygments-0.2.2 jupyterlab-server-2.15.2 nbclient-0.5.13 nbconvert-6.5.4 nbformat-5.6.1 voila-0.3.6\n"
     ]
    },
    {
     "name": "stderr",
     "output_type": "stream",
     "text": [
      "Enabling: voila\n",
      "- Writing config: C:\\Users\\USER\\Anaconda3\\etc\\jupyter\n",
      "    - Validating...\n",
      "      voila 0.3.6 ok\n"
     ]
    }
   ],
   "source": [
    "!pip install voila\n",
    "!jupyter serverextension enable --sys-prefix voila "
   ]
  },
  {
   "cell_type": "code",
   "execution_count": 6,
   "metadata": {},
   "outputs": [],
   "source": [
    "from fastai.vision.all import *\n",
    "from fastai.vision.data import *\n",
    "from pathlib import WindowsPath, Path\n",
    "from ipywidgets import *"
   ]
  },
  {
   "cell_type": "code",
   "execution_count": 8,
   "metadata": {},
   "outputs": [],
   "source": [
    "inference_learner = load_learner('./rock-identifier.pkl')"
   ]
  },
  {
   "cell_type": "code",
   "execution_count": 10,
   "metadata": {},
   "outputs": [
    {
     "data": {
      "application/vnd.jupyter.widget-view+json": {
       "model_id": "5b55619d5b954480968cc3fc3504ddad",
       "version_major": 2,
       "version_minor": 0
      },
      "text/plain": [
       "VBox(children=(Label(value='Upload rock photo.'), FileUpload(value={}, description='Upload'), Button(descripti…"
      ]
     },
     "metadata": {},
     "output_type": "display_data"
    },
    {
     "data": {
      "text/html": [
       "\n",
       "<style>\n",
       "    /* Turns off some styling */\n",
       "    progress {\n",
       "        /* gets rid of default border in Firefox and Opera. */\n",
       "        border: none;\n",
       "        /* Needs to be in here for Safari polyfill so background images work as expected. */\n",
       "        background-size: auto;\n",
       "    }\n",
       "    progress:not([value]), progress:not([value])::-webkit-progress-bar {\n",
       "        background: repeating-linear-gradient(45deg, #7e7e7e, #7e7e7e 10px, #5c5c5c 10px, #5c5c5c 20px);\n",
       "    }\n",
       "    .progress-bar-interrupted, .progress-bar-interrupted::-webkit-progress-bar {\n",
       "        background: #F44336;\n",
       "    }\n",
       "</style>\n"
      ],
      "text/plain": [
       "<IPython.core.display.HTML object>"
      ]
     },
     "metadata": {},
     "output_type": "display_data"
    },
    {
     "data": {
      "text/html": [],
      "text/plain": [
       "<IPython.core.display.HTML object>"
      ]
     },
     "metadata": {},
     "output_type": "display_data"
    }
   ],
   "source": [
    "btn_upload = widgets.FileUpload()\n",
    "btn_run = widgets.Button(description='Classify')\n",
    "label_pred = widgets.Label()\n",
    "output = widgets.Output()\n",
    "output.clear_output()\n",
    "\n",
    "def on_click_predict(change):\n",
    "    img = PILImage.create(btn_upload.data[-1]) #grabs the image\n",
    "    with output: \n",
    "        display(img.to_thumb(224, 224))\n",
    "    pred, pred_idx, probs = inference_learner.predict(img) \n",
    "    label_pred.value = f'This is a {pred.upper()} rock; Probability: {probs[pred_idx]:.4f}'\n",
    "\n",
    "btn_run.on_click(on_click_predict)\n",
    "\n",
    "VBox([widgets.Label('Upload rock photo.'), btn_upload, btn_run, output, label_pred])"
   ]
  }
 ],
 "metadata": {
  "kernelspec": {
   "display_name": "Python 3",
   "language": "python",
   "name": "python3"
  },
  "language_info": {
   "codemirror_mode": {
    "name": "ipython",
    "version": 3
   },
   "file_extension": ".py",
   "mimetype": "text/x-python",
   "name": "python",
   "nbconvert_exporter": "python",
   "pygments_lexer": "ipython3",
   "version": "3.8.3"
  }
 },
 "nbformat": 4,
 "nbformat_minor": 4
}
