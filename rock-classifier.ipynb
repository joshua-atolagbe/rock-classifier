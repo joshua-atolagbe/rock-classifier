{
 "cells": [
  {
   "cell_type": "markdown",
   "metadata": {},
   "source": [
    "<html>\n",
    "    <body>\n",
    "<h1 style=text-align:center;color:green;>Rock Classifier App</h1>\n",
    "\n",
    "<p><b>This app predicts the category of rock i.e igneous, sedimentary and/or metamorphic</b></p>\n",
    "    </body>    \n",
    "</html>"
   ]
  },
  {
   "cell_type": "code",
   "execution_count": null,
   "metadata": {},
   "outputs": [],
   "source": [
    "from fastai.vision.all import *\n",
    "from fastai.vision.widgets import *"
   ]
  },
  {
   "cell_type": "code",
   "execution_count": null,
   "metadata": {},
   "outputs": [],
   "source": [
    "path = Path()\n",
    "inference_learner = load_learner(path/'rock-identifier.pkl', cpu=True)\n",
    "btn_upload = widgets.FileUpload()\n",
    "btn_run = widgets.Button(description='Classify')\n",
    "label_pred = widgets.Label()\n",
    "output = widgets.Output()\n",
    "output.clear_output()"
   ]
  },
  {
   "cell_type": "code",
   "execution_count": null,
   "metadata": {},
   "outputs": [],
   "source": [
    "def on_click_predict(change):\n",
    "    img = PILImage.create(btn_upload.data[-1]) #grabs the image\n",
    "    with output: \n",
    "        display(img.to_thumb(224, 224))\n",
    "    pred, pred_idx, probs = inference_learner.predict(img) \n",
    "    label_pred.value = f'This is a/an {pred.upper()} rock; Probability: {1-probs[pred_idx]:.4f}'\n",
    "\n",
    "btn_upload.observe(on_click_predict, names=['data'])\n",
    "\n",
    "VBox([widgets.Label('Upload rock photo.'), btn_upload, output, label_pred])"
   ]
  }
 ],
 "metadata": {
  "kernelspec": {
   "display_name": "Python 3",
   "language": "python",
   "name": "python3"
  },
  "language_info": {
   "codemirror_mode": {
    "name": "ipython",
    "version": 3
   },
   "file_extension": ".py",
   "mimetype": "text/x-python",
   "name": "python",
   "nbconvert_exporter": "python",
   "pygments_lexer": "ipython3",
   "version": "3.8.3"
  }
 },
 "nbformat": 4,
 "nbformat_minor": 4
}
